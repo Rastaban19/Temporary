{
  "nbformat": 4,
  "nbformat_minor": 0,
  "metadata": {
    "colab": {
      "provenance": [],
      "collapsed_sections": [
        "KJ1-7XeTN8au",
        "xqwMhHDyOGc0",
        "zHa3IhhCjUQq",
        "6cKA1uD4tcNG",
        "DlKUPd0DtuJL",
        "CshIKWZS7Fm4",
        "gCCFBBOc-gnS"
      ],
      "toc_visible": true,
      "mount_file_id": "1JEwCn4jj-wl2cwtDpvEWO6c2hbTtzHvl",
      "authorship_tag": "ABX9TyPeMvjlNd6fmRn5inQ0AofT",
      "include_colab_link": true
    },
    "kernelspec": {
      "name": "python3",
      "display_name": "Python 3"
    },
    "language_info": {
      "name": "python"
    }
  },
  "cells": [
    {
      "cell_type": "markdown",
      "metadata": {
        "id": "view-in-github",
        "colab_type": "text"
      },
      "source": [
        "<a href=\"https://colab.research.google.com/github/Rastaban19/Temporary/blob/main/InformaAnalysis.ipynb\" target=\"_parent\"><img src=\"https://colab.research.google.com/assets/colab-badge.svg\" alt=\"Open In Colab\"/></a>"
      ]
    },
    {
      "cell_type": "markdown",
      "source": [
        "#DataFrame"
      ],
      "metadata": {
        "id": "KJ1-7XeTN8au"
      }
    },
    {
      "cell_type": "code",
      "execution_count": 1,
      "metadata": {
        "id": "52rSgWXMrJ7m"
      },
      "outputs": [],
      "source": [
        "import pandas as pd"
      ]
    },
    {
      "cell_type": "code",
      "source": [
        "from google.colab import drive"
      ],
      "metadata": {
        "id": "HQKagXKCDo7g"
      },
      "execution_count": 2,
      "outputs": []
    },
    {
      "cell_type": "code",
      "source": [
        "drive.mount(\"/content/drive\")"
      ],
      "metadata": {
        "colab": {
          "base_uri": "https://localhost:8080/"
        },
        "id": "v9NLSaQLEw0n",
        "outputId": "55dc14d3-fc45-4b3e-f134-d63eb346f4af",
        "collapsed": true
      },
      "execution_count": 4,
      "outputs": [
        {
          "output_type": "stream",
          "name": "stdout",
          "text": [
            "Drive already mounted at /content/drive; to attempt to forcibly remount, call drive.mount(\"/content/drive\", force_remount=True).\n"
          ]
        }
      ]
    },
    {
      "cell_type": "code",
      "source": [
        "path = \"/content/exhibitors_informa.csv\"\n",
        "df = pd.read_csv(path)"
      ],
      "metadata": {
        "id": "5N65Y3N2EyXm",
        "colab": {
          "base_uri": "https://localhost:8080/",
          "height": 329
        },
        "outputId": "83152d04-33d9-441c-e1a8-7d4b4e514ca6"
      },
      "execution_count": 5,
      "outputs": [
        {
          "output_type": "error",
          "ename": "FileNotFoundError",
          "evalue": "[Errno 2] No such file or directory: '/content/exhibitors_informa.csv'",
          "traceback": [
            "\u001b[0;31m---------------------------------------------------------------------------\u001b[0m",
            "\u001b[0;31mFileNotFoundError\u001b[0m                         Traceback (most recent call last)",
            "\u001b[0;32m<ipython-input-5-9dc49683fb88>\u001b[0m in \u001b[0;36m<cell line: 2>\u001b[0;34m()\u001b[0m\n\u001b[1;32m      1\u001b[0m \u001b[0mpath\u001b[0m \u001b[0;34m=\u001b[0m \u001b[0;34m\"/content/exhibitors_informa.csv\"\u001b[0m\u001b[0;34m\u001b[0m\u001b[0;34m\u001b[0m\u001b[0m\n\u001b[0;32m----> 2\u001b[0;31m \u001b[0mdf\u001b[0m \u001b[0;34m=\u001b[0m \u001b[0mpd\u001b[0m\u001b[0;34m.\u001b[0m\u001b[0mread_csv\u001b[0m\u001b[0;34m(\u001b[0m\u001b[0mpath\u001b[0m\u001b[0;34m)\u001b[0m\u001b[0;34m\u001b[0m\u001b[0;34m\u001b[0m\u001b[0m\n\u001b[0m",
            "\u001b[0;32m/usr/local/lib/python3.10/dist-packages/pandas/io/parsers/readers.py\u001b[0m in \u001b[0;36mread_csv\u001b[0;34m(filepath_or_buffer, sep, delimiter, header, names, index_col, usecols, dtype, engine, converters, true_values, false_values, skipinitialspace, skiprows, skipfooter, nrows, na_values, keep_default_na, na_filter, verbose, skip_blank_lines, parse_dates, infer_datetime_format, keep_date_col, date_parser, date_format, dayfirst, cache_dates, iterator, chunksize, compression, thousands, decimal, lineterminator, quotechar, quoting, doublequote, escapechar, comment, encoding, encoding_errors, dialect, on_bad_lines, delim_whitespace, low_memory, memory_map, float_precision, storage_options, dtype_backend)\u001b[0m\n\u001b[1;32m    946\u001b[0m     \u001b[0mkwds\u001b[0m\u001b[0;34m.\u001b[0m\u001b[0mupdate\u001b[0m\u001b[0;34m(\u001b[0m\u001b[0mkwds_defaults\u001b[0m\u001b[0;34m)\u001b[0m\u001b[0;34m\u001b[0m\u001b[0;34m\u001b[0m\u001b[0m\n\u001b[1;32m    947\u001b[0m \u001b[0;34m\u001b[0m\u001b[0m\n\u001b[0;32m--> 948\u001b[0;31m     \u001b[0;32mreturn\u001b[0m \u001b[0m_read\u001b[0m\u001b[0;34m(\u001b[0m\u001b[0mfilepath_or_buffer\u001b[0m\u001b[0;34m,\u001b[0m \u001b[0mkwds\u001b[0m\u001b[0;34m)\u001b[0m\u001b[0;34m\u001b[0m\u001b[0;34m\u001b[0m\u001b[0m\n\u001b[0m\u001b[1;32m    949\u001b[0m \u001b[0;34m\u001b[0m\u001b[0m\n\u001b[1;32m    950\u001b[0m \u001b[0;34m\u001b[0m\u001b[0m\n",
            "\u001b[0;32m/usr/local/lib/python3.10/dist-packages/pandas/io/parsers/readers.py\u001b[0m in \u001b[0;36m_read\u001b[0;34m(filepath_or_buffer, kwds)\u001b[0m\n\u001b[1;32m    609\u001b[0m \u001b[0;34m\u001b[0m\u001b[0m\n\u001b[1;32m    610\u001b[0m     \u001b[0;31m# Create the parser.\u001b[0m\u001b[0;34m\u001b[0m\u001b[0;34m\u001b[0m\u001b[0m\n\u001b[0;32m--> 611\u001b[0;31m     \u001b[0mparser\u001b[0m \u001b[0;34m=\u001b[0m \u001b[0mTextFileReader\u001b[0m\u001b[0;34m(\u001b[0m\u001b[0mfilepath_or_buffer\u001b[0m\u001b[0;34m,\u001b[0m \u001b[0;34m**\u001b[0m\u001b[0mkwds\u001b[0m\u001b[0;34m)\u001b[0m\u001b[0;34m\u001b[0m\u001b[0;34m\u001b[0m\u001b[0m\n\u001b[0m\u001b[1;32m    612\u001b[0m \u001b[0;34m\u001b[0m\u001b[0m\n\u001b[1;32m    613\u001b[0m     \u001b[0;32mif\u001b[0m \u001b[0mchunksize\u001b[0m \u001b[0;32mor\u001b[0m \u001b[0miterator\u001b[0m\u001b[0;34m:\u001b[0m\u001b[0;34m\u001b[0m\u001b[0;34m\u001b[0m\u001b[0m\n",
            "\u001b[0;32m/usr/local/lib/python3.10/dist-packages/pandas/io/parsers/readers.py\u001b[0m in \u001b[0;36m__init__\u001b[0;34m(self, f, engine, **kwds)\u001b[0m\n\u001b[1;32m   1446\u001b[0m \u001b[0;34m\u001b[0m\u001b[0m\n\u001b[1;32m   1447\u001b[0m         \u001b[0mself\u001b[0m\u001b[0;34m.\u001b[0m\u001b[0mhandles\u001b[0m\u001b[0;34m:\u001b[0m \u001b[0mIOHandles\u001b[0m \u001b[0;34m|\u001b[0m \u001b[0;32mNone\u001b[0m \u001b[0;34m=\u001b[0m \u001b[0;32mNone\u001b[0m\u001b[0;34m\u001b[0m\u001b[0;34m\u001b[0m\u001b[0m\n\u001b[0;32m-> 1448\u001b[0;31m         \u001b[0mself\u001b[0m\u001b[0;34m.\u001b[0m\u001b[0m_engine\u001b[0m \u001b[0;34m=\u001b[0m \u001b[0mself\u001b[0m\u001b[0;34m.\u001b[0m\u001b[0m_make_engine\u001b[0m\u001b[0;34m(\u001b[0m\u001b[0mf\u001b[0m\u001b[0;34m,\u001b[0m \u001b[0mself\u001b[0m\u001b[0;34m.\u001b[0m\u001b[0mengine\u001b[0m\u001b[0;34m)\u001b[0m\u001b[0;34m\u001b[0m\u001b[0;34m\u001b[0m\u001b[0m\n\u001b[0m\u001b[1;32m   1449\u001b[0m \u001b[0;34m\u001b[0m\u001b[0m\n\u001b[1;32m   1450\u001b[0m     \u001b[0;32mdef\u001b[0m \u001b[0mclose\u001b[0m\u001b[0;34m(\u001b[0m\u001b[0mself\u001b[0m\u001b[0;34m)\u001b[0m \u001b[0;34m->\u001b[0m \u001b[0;32mNone\u001b[0m\u001b[0;34m:\u001b[0m\u001b[0;34m\u001b[0m\u001b[0;34m\u001b[0m\u001b[0m\n",
            "\u001b[0;32m/usr/local/lib/python3.10/dist-packages/pandas/io/parsers/readers.py\u001b[0m in \u001b[0;36m_make_engine\u001b[0;34m(self, f, engine)\u001b[0m\n\u001b[1;32m   1703\u001b[0m                 \u001b[0;32mif\u001b[0m \u001b[0;34m\"b\"\u001b[0m \u001b[0;32mnot\u001b[0m \u001b[0;32min\u001b[0m \u001b[0mmode\u001b[0m\u001b[0;34m:\u001b[0m\u001b[0;34m\u001b[0m\u001b[0;34m\u001b[0m\u001b[0m\n\u001b[1;32m   1704\u001b[0m                     \u001b[0mmode\u001b[0m \u001b[0;34m+=\u001b[0m \u001b[0;34m\"b\"\u001b[0m\u001b[0;34m\u001b[0m\u001b[0;34m\u001b[0m\u001b[0m\n\u001b[0;32m-> 1705\u001b[0;31m             self.handles = get_handle(\n\u001b[0m\u001b[1;32m   1706\u001b[0m                 \u001b[0mf\u001b[0m\u001b[0;34m,\u001b[0m\u001b[0;34m\u001b[0m\u001b[0;34m\u001b[0m\u001b[0m\n\u001b[1;32m   1707\u001b[0m                 \u001b[0mmode\u001b[0m\u001b[0;34m,\u001b[0m\u001b[0;34m\u001b[0m\u001b[0;34m\u001b[0m\u001b[0m\n",
            "\u001b[0;32m/usr/local/lib/python3.10/dist-packages/pandas/io/common.py\u001b[0m in \u001b[0;36mget_handle\u001b[0;34m(path_or_buf, mode, encoding, compression, memory_map, is_text, errors, storage_options)\u001b[0m\n\u001b[1;32m    861\u001b[0m         \u001b[0;32mif\u001b[0m \u001b[0mioargs\u001b[0m\u001b[0;34m.\u001b[0m\u001b[0mencoding\u001b[0m \u001b[0;32mand\u001b[0m \u001b[0;34m\"b\"\u001b[0m \u001b[0;32mnot\u001b[0m \u001b[0;32min\u001b[0m \u001b[0mioargs\u001b[0m\u001b[0;34m.\u001b[0m\u001b[0mmode\u001b[0m\u001b[0;34m:\u001b[0m\u001b[0;34m\u001b[0m\u001b[0;34m\u001b[0m\u001b[0m\n\u001b[1;32m    862\u001b[0m             \u001b[0;31m# Encoding\u001b[0m\u001b[0;34m\u001b[0m\u001b[0;34m\u001b[0m\u001b[0m\n\u001b[0;32m--> 863\u001b[0;31m             handle = open(\n\u001b[0m\u001b[1;32m    864\u001b[0m                 \u001b[0mhandle\u001b[0m\u001b[0;34m,\u001b[0m\u001b[0;34m\u001b[0m\u001b[0;34m\u001b[0m\u001b[0m\n\u001b[1;32m    865\u001b[0m                 \u001b[0mioargs\u001b[0m\u001b[0;34m.\u001b[0m\u001b[0mmode\u001b[0m\u001b[0;34m,\u001b[0m\u001b[0;34m\u001b[0m\u001b[0;34m\u001b[0m\u001b[0m\n",
            "\u001b[0;31mFileNotFoundError\u001b[0m: [Errno 2] No such file or directory: '/content/exhibitors_informa.csv'"
          ]
        }
      ]
    },
    {
      "cell_type": "code",
      "source": [
        "df"
      ],
      "metadata": {
        "id": "ictUs0iCFKyp"
      },
      "execution_count": null,
      "outputs": []
    },
    {
      "cell_type": "markdown",
      "source": [
        "#EDA"
      ],
      "metadata": {
        "id": "xqwMhHDyOGc0"
      }
    },
    {
      "cell_type": "code",
      "source": [
        "df.info()"
      ],
      "metadata": {
        "id": "1DIcxLgFFMLx",
        "outputId": "2fe104ae-87c6-4368-ac55-49d1311d9b3c",
        "colab": {
          "base_uri": "https://localhost:8080/"
        }
      },
      "execution_count": null,
      "outputs": [
        {
          "output_type": "stream",
          "name": "stdout",
          "text": [
            "<class 'pandas.core.frame.DataFrame'>\n",
            "RangeIndex: 1243 entries, 0 to 1242\n",
            "Data columns (total 35 columns):\n",
            " #   Column                                     Non-Null Count  Dtype \n",
            "---  ------                                     --------------  ----- \n",
            " 0   Name                                       1243 non-null   object\n",
            " 1   Description                                1207 non-null   object\n",
            " 2   Country                                    1243 non-null   object\n",
            " 3   Email                                      1243 non-null   object\n",
            " 4   Phone                                      1243 non-null   object\n",
            " 5   Mobile                                     1243 non-null   object\n",
            " 6   Phone Number                               1243 non-null   object\n",
            " 7   Address                                    1243 non-null   object\n",
            " 8   Logos                                      661 non-null    object\n",
            " 9   Products                                   600 non-null    object\n",
            " 10  Documents                                  71 non-null     object\n",
            " 11  Document Links                             71 non-null     object\n",
            " 12  Product Images                             600 non-null    object\n",
            " 13  Product Links                              600 non-null    object\n",
            " 14  Billboard Image                            1243 non-null   object\n",
            " 15  Billboard Video                            1243 non-null   object\n",
            " 16  Nature of Business                         1243 non-null   object\n",
            " 17  Interested to Connect With                 1243 non-null   object\n",
            " 18  Laboratory                                 1243 non-null   object\n",
            " 19  Orthopaedic Devices                        1243 non-null   object\n",
            " 20  Physiotherapy/Rehabilitation/Mobility      1243 non-null   object\n",
            " 21  Country Coverage                           1243 non-null   object\n",
            " 22  Disposables & Consumables                  1243 non-null   object\n",
            " 23  Medical Equipment                          1243 non-null   object\n",
            " 24  Healthcare & General Services              1243 non-null   object\n",
            " 25  Healthcare Infrastructure & Assets         1243 non-null   object\n",
            " 26  IT Systems / Solutions                     1243 non-null   object\n",
            " 27  IT Systems, Solutions & Digital Health     1243 non-null   object\n",
            " 28  Imaging & Diagnostics                      1243 non-null   object\n",
            " 29  Medical Equipment & Devices                1243 non-null   object\n",
            " 30  Orthopedic & Physiotherapy/Rehabilitation  1243 non-null   object\n",
            " 31  Pharma/Nutrition                           1243 non-null   object\n",
            " 32  Imaging                                    1243 non-null   object\n",
            " 33  Social Media                               436 non-null    object\n",
            " 34  Website                                    1243 non-null   object\n",
            "dtypes: object(35)\n",
            "memory usage: 340.0+ KB\n"
          ]
        }
      ]
    },
    {
      "cell_type": "code",
      "source": [
        "df.shape"
      ],
      "metadata": {
        "id": "Pa_CrB36GLsm",
        "outputId": "5206adfa-393c-4494-80b2-b1e5f1c51466",
        "colab": {
          "base_uri": "https://localhost:8080/"
        }
      },
      "execution_count": null,
      "outputs": [
        {
          "output_type": "execute_result",
          "data": {
            "text/plain": [
              "(1243, 35)"
            ]
          },
          "metadata": {},
          "execution_count": 11
        }
      ]
    },
    {
      "cell_type": "code",
      "source": [
        "df.describe()"
      ],
      "metadata": {
        "id": "BgYEQK8fG6jS",
        "outputId": "2caeb540-130f-4538-cd68-1dd6157c4333",
        "colab": {
          "base_uri": "https://localhost:8080/",
          "height": 380
        }
      },
      "execution_count": null,
      "outputs": [
        {
          "output_type": "execute_result",
          "data": {
            "text/plain": [
              "                   Name           Description Country           Email  \\\n",
              "count              1243                  1207    1243            1243   \n",
              "unique             1242                   748      40             667   \n",
              "top     Informa Markets  No description found   China  No email found   \n",
              "freq                  2                   460     458             577   \n",
              "\n",
              "                 Phone           Mobile    Phone Number           Address  \\\n",
              "count             1243             1243            1243              1243   \n",
              "unique             514              503              23               296   \n",
              "top     No phone found  No mobile found  No phone found  No address found   \n",
              "freq               730              741            1221               943   \n",
              "\n",
              "                                                    Logos  \\\n",
              "count                                                 661   \n",
              "unique                                                661   \n",
              "top     https://img.swapcard.com/?u=https%3A%2F%2Fstat...   \n",
              "freq                                                    1   \n",
              "\n",
              "                                                 Products  ...  \\\n",
              "count                                                 600  ...   \n",
              "unique                                                 11  ...   \n",
              "top     [object Object],[object Object],[object Object...  ...   \n",
              "freq                                                  292  ...   \n",
              "\n",
              "       Healthcare Infrastructure & Assets IT Systems / Solutions  \\\n",
              "count                                1243                   1243   \n",
              "unique                                  1                      1   \n",
              "top                             Not found              Not found   \n",
              "freq                                 1243                   1243   \n",
              "\n",
              "       IT Systems, Solutions & Digital Health Imaging & Diagnostics  \\\n",
              "count                                    1243                  1243   \n",
              "unique                                     57                     1   \n",
              "top                                 Not found             Not found   \n",
              "freq                                     1158                  1243   \n",
              "\n",
              "       Medical Equipment & Devices Orthopedic & Physiotherapy/Rehabilitation  \\\n",
              "count                         1243                                      1243   \n",
              "unique                           1                                         1   \n",
              "top                      Not found                                 Not found   \n",
              "freq                          1243                                      1243   \n",
              "\n",
              "       Pharma/Nutrition    Imaging  \\\n",
              "count              1243       1243   \n",
              "unique               19         54   \n",
              "top           Not found  Not found   \n",
              "freq               1173       1118   \n",
              "\n",
              "                                             Social Media           Website  \n",
              "count                                                 436              1243  \n",
              "unique                                                436               640  \n",
              "top     https://www.linkedin.com/company/bonetech-medi...  No website found  \n",
              "freq                                                    1               583  \n",
              "\n",
              "[4 rows x 35 columns]"
            ],
            "text/html": [
              "\n",
              "  <div id=\"df-57239bba-3e8c-4d79-ae26-dd3a2f9d725a\" class=\"colab-df-container\">\n",
              "    <div>\n",
              "<style scoped>\n",
              "    .dataframe tbody tr th:only-of-type {\n",
              "        vertical-align: middle;\n",
              "    }\n",
              "\n",
              "    .dataframe tbody tr th {\n",
              "        vertical-align: top;\n",
              "    }\n",
              "\n",
              "    .dataframe thead th {\n",
              "        text-align: right;\n",
              "    }\n",
              "</style>\n",
              "<table border=\"1\" class=\"dataframe\">\n",
              "  <thead>\n",
              "    <tr style=\"text-align: right;\">\n",
              "      <th></th>\n",
              "      <th>Name</th>\n",
              "      <th>Description</th>\n",
              "      <th>Country</th>\n",
              "      <th>Email</th>\n",
              "      <th>Phone</th>\n",
              "      <th>Mobile</th>\n",
              "      <th>Phone Number</th>\n",
              "      <th>Address</th>\n",
              "      <th>Logos</th>\n",
              "      <th>Products</th>\n",
              "      <th>...</th>\n",
              "      <th>Healthcare Infrastructure &amp; Assets</th>\n",
              "      <th>IT Systems / Solutions</th>\n",
              "      <th>IT Systems, Solutions &amp; Digital Health</th>\n",
              "      <th>Imaging &amp; Diagnostics</th>\n",
              "      <th>Medical Equipment &amp; Devices</th>\n",
              "      <th>Orthopedic &amp; Physiotherapy/Rehabilitation</th>\n",
              "      <th>Pharma/Nutrition</th>\n",
              "      <th>Imaging</th>\n",
              "      <th>Social Media</th>\n",
              "      <th>Website</th>\n",
              "    </tr>\n",
              "  </thead>\n",
              "  <tbody>\n",
              "    <tr>\n",
              "      <th>count</th>\n",
              "      <td>1243</td>\n",
              "      <td>1207</td>\n",
              "      <td>1243</td>\n",
              "      <td>1243</td>\n",
              "      <td>1243</td>\n",
              "      <td>1243</td>\n",
              "      <td>1243</td>\n",
              "      <td>1243</td>\n",
              "      <td>661</td>\n",
              "      <td>600</td>\n",
              "      <td>...</td>\n",
              "      <td>1243</td>\n",
              "      <td>1243</td>\n",
              "      <td>1243</td>\n",
              "      <td>1243</td>\n",
              "      <td>1243</td>\n",
              "      <td>1243</td>\n",
              "      <td>1243</td>\n",
              "      <td>1243</td>\n",
              "      <td>436</td>\n",
              "      <td>1243</td>\n",
              "    </tr>\n",
              "    <tr>\n",
              "      <th>unique</th>\n",
              "      <td>1242</td>\n",
              "      <td>748</td>\n",
              "      <td>40</td>\n",
              "      <td>667</td>\n",
              "      <td>514</td>\n",
              "      <td>503</td>\n",
              "      <td>23</td>\n",
              "      <td>296</td>\n",
              "      <td>661</td>\n",
              "      <td>11</td>\n",
              "      <td>...</td>\n",
              "      <td>1</td>\n",
              "      <td>1</td>\n",
              "      <td>57</td>\n",
              "      <td>1</td>\n",
              "      <td>1</td>\n",
              "      <td>1</td>\n",
              "      <td>19</td>\n",
              "      <td>54</td>\n",
              "      <td>436</td>\n",
              "      <td>640</td>\n",
              "    </tr>\n",
              "    <tr>\n",
              "      <th>top</th>\n",
              "      <td>Informa Markets</td>\n",
              "      <td>No description found</td>\n",
              "      <td>China</td>\n",
              "      <td>No email found</td>\n",
              "      <td>No phone found</td>\n",
              "      <td>No mobile found</td>\n",
              "      <td>No phone found</td>\n",
              "      <td>No address found</td>\n",
              "      <td>https://img.swapcard.com/?u=https%3A%2F%2Fstat...</td>\n",
              "      <td>[object Object],[object Object],[object Object...</td>\n",
              "      <td>...</td>\n",
              "      <td>Not found</td>\n",
              "      <td>Not found</td>\n",
              "      <td>Not found</td>\n",
              "      <td>Not found</td>\n",
              "      <td>Not found</td>\n",
              "      <td>Not found</td>\n",
              "      <td>Not found</td>\n",
              "      <td>Not found</td>\n",
              "      <td>https://www.linkedin.com/company/bonetech-medi...</td>\n",
              "      <td>No website found</td>\n",
              "    </tr>\n",
              "    <tr>\n",
              "      <th>freq</th>\n",
              "      <td>2</td>\n",
              "      <td>460</td>\n",
              "      <td>458</td>\n",
              "      <td>577</td>\n",
              "      <td>730</td>\n",
              "      <td>741</td>\n",
              "      <td>1221</td>\n",
              "      <td>943</td>\n",
              "      <td>1</td>\n",
              "      <td>292</td>\n",
              "      <td>...</td>\n",
              "      <td>1243</td>\n",
              "      <td>1243</td>\n",
              "      <td>1158</td>\n",
              "      <td>1243</td>\n",
              "      <td>1243</td>\n",
              "      <td>1243</td>\n",
              "      <td>1173</td>\n",
              "      <td>1118</td>\n",
              "      <td>1</td>\n",
              "      <td>583</td>\n",
              "    </tr>\n",
              "  </tbody>\n",
              "</table>\n",
              "<p>4 rows × 35 columns</p>\n",
              "</div>\n",
              "    <div class=\"colab-df-buttons\">\n",
              "\n",
              "  <div class=\"colab-df-container\">\n",
              "    <button class=\"colab-df-convert\" onclick=\"convertToInteractive('df-57239bba-3e8c-4d79-ae26-dd3a2f9d725a')\"\n",
              "            title=\"Convert this dataframe to an interactive table.\"\n",
              "            style=\"display:none;\">\n",
              "\n",
              "  <svg xmlns=\"http://www.w3.org/2000/svg\" height=\"24px\" viewBox=\"0 -960 960 960\">\n",
              "    <path d=\"M120-120v-720h720v720H120Zm60-500h600v-160H180v160Zm220 220h160v-160H400v160Zm0 220h160v-160H400v160ZM180-400h160v-160H180v160Zm440 0h160v-160H620v160ZM180-180h160v-160H180v160Zm440 0h160v-160H620v160Z\"/>\n",
              "  </svg>\n",
              "    </button>\n",
              "\n",
              "  <style>\n",
              "    .colab-df-container {\n",
              "      display:flex;\n",
              "      gap: 12px;\n",
              "    }\n",
              "\n",
              "    .colab-df-convert {\n",
              "      background-color: #E8F0FE;\n",
              "      border: none;\n",
              "      border-radius: 50%;\n",
              "      cursor: pointer;\n",
              "      display: none;\n",
              "      fill: #1967D2;\n",
              "      height: 32px;\n",
              "      padding: 0 0 0 0;\n",
              "      width: 32px;\n",
              "    }\n",
              "\n",
              "    .colab-df-convert:hover {\n",
              "      background-color: #E2EBFA;\n",
              "      box-shadow: 0px 1px 2px rgba(60, 64, 67, 0.3), 0px 1px 3px 1px rgba(60, 64, 67, 0.15);\n",
              "      fill: #174EA6;\n",
              "    }\n",
              "\n",
              "    .colab-df-buttons div {\n",
              "      margin-bottom: 4px;\n",
              "    }\n",
              "\n",
              "    [theme=dark] .colab-df-convert {\n",
              "      background-color: #3B4455;\n",
              "      fill: #D2E3FC;\n",
              "    }\n",
              "\n",
              "    [theme=dark] .colab-df-convert:hover {\n",
              "      background-color: #434B5C;\n",
              "      box-shadow: 0px 1px 3px 1px rgba(0, 0, 0, 0.15);\n",
              "      filter: drop-shadow(0px 1px 2px rgba(0, 0, 0, 0.3));\n",
              "      fill: #FFFFFF;\n",
              "    }\n",
              "  </style>\n",
              "\n",
              "    <script>\n",
              "      const buttonEl =\n",
              "        document.querySelector('#df-57239bba-3e8c-4d79-ae26-dd3a2f9d725a button.colab-df-convert');\n",
              "      buttonEl.style.display =\n",
              "        google.colab.kernel.accessAllowed ? 'block' : 'none';\n",
              "\n",
              "      async function convertToInteractive(key) {\n",
              "        const element = document.querySelector('#df-57239bba-3e8c-4d79-ae26-dd3a2f9d725a');\n",
              "        const dataTable =\n",
              "          await google.colab.kernel.invokeFunction('convertToInteractive',\n",
              "                                                    [key], {});\n",
              "        if (!dataTable) return;\n",
              "\n",
              "        const docLinkHtml = 'Like what you see? Visit the ' +\n",
              "          '<a target=\"_blank\" href=https://colab.research.google.com/notebooks/data_table.ipynb>data table notebook</a>'\n",
              "          + ' to learn more about interactive tables.';\n",
              "        element.innerHTML = '';\n",
              "        dataTable['output_type'] = 'display_data';\n",
              "        await google.colab.output.renderOutput(dataTable, element);\n",
              "        const docLink = document.createElement('div');\n",
              "        docLink.innerHTML = docLinkHtml;\n",
              "        element.appendChild(docLink);\n",
              "      }\n",
              "    </script>\n",
              "  </div>\n",
              "\n",
              "\n",
              "<div id=\"df-6dcddf57-f3db-4dc5-b802-f3a8c8daef8c\">\n",
              "  <button class=\"colab-df-quickchart\" onclick=\"quickchart('df-6dcddf57-f3db-4dc5-b802-f3a8c8daef8c')\"\n",
              "            title=\"Suggest charts\"\n",
              "            style=\"display:none;\">\n",
              "\n",
              "<svg xmlns=\"http://www.w3.org/2000/svg\" height=\"24px\"viewBox=\"0 0 24 24\"\n",
              "     width=\"24px\">\n",
              "    <g>\n",
              "        <path d=\"M19 3H5c-1.1 0-2 .9-2 2v14c0 1.1.9 2 2 2h14c1.1 0 2-.9 2-2V5c0-1.1-.9-2-2-2zM9 17H7v-7h2v7zm4 0h-2V7h2v10zm4 0h-2v-4h2v4z\"/>\n",
              "    </g>\n",
              "</svg>\n",
              "  </button>\n",
              "\n",
              "<style>\n",
              "  .colab-df-quickchart {\n",
              "      --bg-color: #E8F0FE;\n",
              "      --fill-color: #1967D2;\n",
              "      --hover-bg-color: #E2EBFA;\n",
              "      --hover-fill-color: #174EA6;\n",
              "      --disabled-fill-color: #AAA;\n",
              "      --disabled-bg-color: #DDD;\n",
              "  }\n",
              "\n",
              "  [theme=dark] .colab-df-quickchart {\n",
              "      --bg-color: #3B4455;\n",
              "      --fill-color: #D2E3FC;\n",
              "      --hover-bg-color: #434B5C;\n",
              "      --hover-fill-color: #FFFFFF;\n",
              "      --disabled-bg-color: #3B4455;\n",
              "      --disabled-fill-color: #666;\n",
              "  }\n",
              "\n",
              "  .colab-df-quickchart {\n",
              "    background-color: var(--bg-color);\n",
              "    border: none;\n",
              "    border-radius: 50%;\n",
              "    cursor: pointer;\n",
              "    display: none;\n",
              "    fill: var(--fill-color);\n",
              "    height: 32px;\n",
              "    padding: 0;\n",
              "    width: 32px;\n",
              "  }\n",
              "\n",
              "  .colab-df-quickchart:hover {\n",
              "    background-color: var(--hover-bg-color);\n",
              "    box-shadow: 0 1px 2px rgba(60, 64, 67, 0.3), 0 1px 3px 1px rgba(60, 64, 67, 0.15);\n",
              "    fill: var(--button-hover-fill-color);\n",
              "  }\n",
              "\n",
              "  .colab-df-quickchart-complete:disabled,\n",
              "  .colab-df-quickchart-complete:disabled:hover {\n",
              "    background-color: var(--disabled-bg-color);\n",
              "    fill: var(--disabled-fill-color);\n",
              "    box-shadow: none;\n",
              "  }\n",
              "\n",
              "  .colab-df-spinner {\n",
              "    border: 2px solid var(--fill-color);\n",
              "    border-color: transparent;\n",
              "    border-bottom-color: var(--fill-color);\n",
              "    animation:\n",
              "      spin 1s steps(1) infinite;\n",
              "  }\n",
              "\n",
              "  @keyframes spin {\n",
              "    0% {\n",
              "      border-color: transparent;\n",
              "      border-bottom-color: var(--fill-color);\n",
              "      border-left-color: var(--fill-color);\n",
              "    }\n",
              "    20% {\n",
              "      border-color: transparent;\n",
              "      border-left-color: var(--fill-color);\n",
              "      border-top-color: var(--fill-color);\n",
              "    }\n",
              "    30% {\n",
              "      border-color: transparent;\n",
              "      border-left-color: var(--fill-color);\n",
              "      border-top-color: var(--fill-color);\n",
              "      border-right-color: var(--fill-color);\n",
              "    }\n",
              "    40% {\n",
              "      border-color: transparent;\n",
              "      border-right-color: var(--fill-color);\n",
              "      border-top-color: var(--fill-color);\n",
              "    }\n",
              "    60% {\n",
              "      border-color: transparent;\n",
              "      border-right-color: var(--fill-color);\n",
              "    }\n",
              "    80% {\n",
              "      border-color: transparent;\n",
              "      border-right-color: var(--fill-color);\n",
              "      border-bottom-color: var(--fill-color);\n",
              "    }\n",
              "    90% {\n",
              "      border-color: transparent;\n",
              "      border-bottom-color: var(--fill-color);\n",
              "    }\n",
              "  }\n",
              "</style>\n",
              "\n",
              "  <script>\n",
              "    async function quickchart(key) {\n",
              "      const quickchartButtonEl =\n",
              "        document.querySelector('#' + key + ' button');\n",
              "      quickchartButtonEl.disabled = true;  // To prevent multiple clicks.\n",
              "      quickchartButtonEl.classList.add('colab-df-spinner');\n",
              "      try {\n",
              "        const charts = await google.colab.kernel.invokeFunction(\n",
              "            'suggestCharts', [key], {});\n",
              "      } catch (error) {\n",
              "        console.error('Error during call to suggestCharts:', error);\n",
              "      }\n",
              "      quickchartButtonEl.classList.remove('colab-df-spinner');\n",
              "      quickchartButtonEl.classList.add('colab-df-quickchart-complete');\n",
              "    }\n",
              "    (() => {\n",
              "      let quickchartButtonEl =\n",
              "        document.querySelector('#df-6dcddf57-f3db-4dc5-b802-f3a8c8daef8c button');\n",
              "      quickchartButtonEl.style.display =\n",
              "        google.colab.kernel.accessAllowed ? 'block' : 'none';\n",
              "    })();\n",
              "  </script>\n",
              "</div>\n",
              "\n",
              "    </div>\n",
              "  </div>\n"
            ],
            "application/vnd.google.colaboratory.intrinsic+json": {
              "type": "dataframe"
            }
          },
          "metadata": {},
          "execution_count": 12
        }
      ]
    },
    {
      "cell_type": "code",
      "source": [
        "df.columns.tolist()"
      ],
      "metadata": {
        "id": "31zSr8tJG-Mp",
        "outputId": "e26752e7-9085-467e-f438-4f544e3837eb",
        "colab": {
          "base_uri": "https://localhost:8080/"
        }
      },
      "execution_count": null,
      "outputs": [
        {
          "output_type": "execute_result",
          "data": {
            "text/plain": [
              "['Name',\n",
              " 'Description',\n",
              " 'Country',\n",
              " 'Email',\n",
              " 'Phone',\n",
              " 'Mobile',\n",
              " 'Phone Number',\n",
              " 'Address',\n",
              " 'Logos',\n",
              " 'Products',\n",
              " 'Documents',\n",
              " 'Document Links',\n",
              " 'Product Images',\n",
              " 'Product Links',\n",
              " 'Billboard Image',\n",
              " 'Billboard Video',\n",
              " 'Nature of Business',\n",
              " 'Interested to Connect With',\n",
              " 'Laboratory',\n",
              " 'Orthopaedic Devices',\n",
              " 'Physiotherapy/Rehabilitation/Mobility',\n",
              " 'Country Coverage',\n",
              " 'Disposables & Consumables',\n",
              " 'Medical Equipment',\n",
              " 'Healthcare & General Services',\n",
              " 'Healthcare Infrastructure & Assets',\n",
              " 'IT Systems / Solutions',\n",
              " 'IT Systems, Solutions & Digital Health',\n",
              " 'Imaging & Diagnostics',\n",
              " 'Medical Equipment & Devices',\n",
              " 'Orthopedic & Physiotherapy/Rehabilitation',\n",
              " 'Pharma/Nutrition',\n",
              " 'Imaging',\n",
              " 'Social Media',\n",
              " 'Website']"
            ]
          },
          "metadata": {},
          "execution_count": 13
        }
      ]
    },
    {
      "cell_type": "code",
      "source": [
        "df.nunique()\n",
        "#This is the number of unique values per each element/observation of the dataframe.\n",
        "#We recall the df shape (1243, 35)\n",
        "#Name is closer to the lenght so we can identify it as PK/id of the elements. There is one missing value, which is strange,\n",
        "#but we might improve the quality of the dataset by removing this row."
      ],
      "metadata": {
        "id": "Qkty_8GtImcU",
        "outputId": "462695d4-3938-454c-f006-45125bf1eb6a",
        "colab": {
          "base_uri": "https://localhost:8080/"
        }
      },
      "execution_count": null,
      "outputs": [
        {
          "output_type": "execute_result",
          "data": {
            "text/plain": [
              "Name                                         1242\n",
              "Description                                   748\n",
              "Country                                        40\n",
              "Email                                         667\n",
              "Phone                                         514\n",
              "Mobile                                        503\n",
              "Phone Number                                   23\n",
              "Address                                       296\n",
              "Logos                                         661\n",
              "Products                                       11\n",
              "Documents                                      70\n",
              "Document Links                                 71\n",
              "Product Images                                568\n",
              "Product Links                                 600\n",
              "Billboard Image                                36\n",
              "Billboard Video                                 1\n",
              "Nature of Business                             22\n",
              "Interested to Connect With                    270\n",
              "Laboratory                                    100\n",
              "Orthopaedic Devices                            28\n",
              "Physiotherapy/Rehabilitation/Mobility          25\n",
              "Country Coverage                              295\n",
              "Disposables & Consumables                     211\n",
              "Medical Equipment                             352\n",
              "Healthcare & General Services                  65\n",
              "Healthcare Infrastructure & Assets              1\n",
              "IT Systems / Solutions                          1\n",
              "IT Systems, Solutions & Digital Health         57\n",
              "Imaging & Diagnostics                           1\n",
              "Medical Equipment & Devices                     1\n",
              "Orthopedic & Physiotherapy/Rehabilitation       1\n",
              "Pharma/Nutrition                               19\n",
              "Imaging                                        54\n",
              "Social Media                                  436\n",
              "Website                                       640\n",
              "dtype: int64"
            ]
          },
          "metadata": {},
          "execution_count": 14
        }
      ]
    },
    {
      "cell_type": "markdown",
      "source": [
        "From here I can either start data reshaping with a copy of the df or I could procede with the identification of the necessar information."
      ],
      "metadata": {
        "id": "-_xsIo8uLELg"
      }
    },
    {
      "cell_type": "code",
      "source": [
        "df.isnull().sum()"
      ],
      "metadata": {
        "id": "nBNLdzNMIwSv",
        "outputId": "2914c43a-4ef2-407c-b1eb-38143746e98c",
        "colab": {
          "base_uri": "https://localhost:8080/"
        }
      },
      "execution_count": null,
      "outputs": [
        {
          "output_type": "execute_result",
          "data": {
            "text/plain": [
              "Name                                            0\n",
              "Description                                    36\n",
              "Country                                         0\n",
              "Email                                           0\n",
              "Phone                                           0\n",
              "Mobile                                          0\n",
              "Phone Number                                    0\n",
              "Address                                         0\n",
              "Logos                                         582\n",
              "Products                                      643\n",
              "Documents                                    1172\n",
              "Document Links                               1172\n",
              "Product Images                                643\n",
              "Product Links                                 643\n",
              "Billboard Image                                 0\n",
              "Billboard Video                                 0\n",
              "Nature of Business                              0\n",
              "Interested to Connect With                      0\n",
              "Laboratory                                      0\n",
              "Orthopaedic Devices                             0\n",
              "Physiotherapy/Rehabilitation/Mobility           0\n",
              "Country Coverage                                0\n",
              "Disposables & Consumables                       0\n",
              "Medical Equipment                               0\n",
              "Healthcare & General Services                   0\n",
              "Healthcare Infrastructure & Assets              0\n",
              "IT Systems / Solutions                          0\n",
              "IT Systems, Solutions & Digital Health          0\n",
              "Imaging & Diagnostics                           0\n",
              "Medical Equipment & Devices                     0\n",
              "Orthopedic & Physiotherapy/Rehabilitation       0\n",
              "Pharma/Nutrition                                0\n",
              "Imaging                                         0\n",
              "Social Media                                  807\n",
              "Website                                         0\n",
              "dtype: int64"
            ]
          },
          "metadata": {},
          "execution_count": 15
        }
      ]
    },
    {
      "cell_type": "markdown",
      "source": [
        "!!! My intuition was wrong. We have 1242 insted of 1243 names because there are two companies with the same name! So there are no null values. But this makes it impossibile to use this value as a FK, we can fix in two ways:\n",
        "1) Assign an unique ID to each observation\n",
        "2) Investigate why only these two values come with the same name, might be a typo."
      ],
      "metadata": {
        "id": "EBeDzfzOM2oh"
      }
    },
    {
      "cell_type": "code",
      "source": [
        "#df.isnull().sum().sum()"
      ],
      "metadata": {
        "id": "4aPg0aVWMn61"
      },
      "execution_count": null,
      "outputs": []
    },
    {
      "cell_type": "code",
      "source": [
        "dfcopy = df.copy()"
      ],
      "metadata": {
        "id": "I8Mnj70kPALR"
      },
      "execution_count": null,
      "outputs": []
    },
    {
      "cell_type": "code",
      "source": [
        "dfcopy"
      ],
      "metadata": {
        "id": "U3-73QnWdSep",
        "outputId": "19b5ddd5-37e1-44fb-bdd6-a7d803f0db20",
        "colab": {
          "base_uri": "https://localhost:8080/",
          "height": 1000
        }
      },
      "execution_count": null,
      "outputs": [
        {
          "output_type": "execute_result",
          "data": {
            "text/plain": [
              "                                                   Name  \\\n",
              "0                      BONETECH MEDISYS PRIVATE LIMITED   \n",
              "1                                                 Crein   \n",
              "2                         F.L. Medical Srl Unipersonale   \n",
              "3                                           FULWELL LLC   \n",
              "4                                       Gpc Medical Ltd   \n",
              "...                                                 ...   \n",
              "1238                     Zibo Sunrise Medical Co., Ltd.   \n",
              "1239                         Zilla Technology PTE. LTD.   \n",
              "1240                                      ZOE BIO, Inc.   \n",
              "1241                                  ZOLL MEDICAL CORP   \n",
              "1242   Changzhou Intl. Trade & Enterprises Cooperati...   \n",
              "\n",
              "                                            Description  \\\n",
              "0     Introducing Bonetech Medisys, a premier manufa...   \n",
              "1     We are the leading regulatory affairs firm in ...   \n",
              "2     Research, evolution, excellence, quality. The ...   \n",
              "3     Baisheng Medical Co.,Ltd, OBS set its producti...   \n",
              "4     Introducing GPC Medical, a reputable global le...   \n",
              "...                                                 ...   \n",
              "1238  SUNRISE MEDICAL is a global leader in design a...   \n",
              "1239                               No description found   \n",
              "1240                               No description found   \n",
              "1241  ZOLL develops and markets medical devices and ...   \n",
              "1242  Changzhou Intl. Trade & Enterprises Cooperativ...   \n",
              "\n",
              "                       Country                        Email  \\\n",
              "0                        India  gaurang@bonetechmedisys.com   \n",
              "1                      Ecuador            info@crein.com.ec   \n",
              "2                        Italy           info@flmedical.com   \n",
              "3     United States of America             sales@bs0750.com   \n",
              "4                        India          info@gpcmedical.com   \n",
              "...                        ...                          ...   \n",
              "1238                     China           info@sunrisemed.cn   \n",
              "1239                 Singapore               No email found   \n",
              "1240               South Korea               No email found   \n",
              "1241  United States of America     LatamSales.zoll@zoll.com   \n",
              "1242                     China        citec@citec-group.com   \n",
              "\n",
              "                   Phone             Mobile    Phone Number  \\\n",
              "0         0091 957407704      +91 957407704  No phone found   \n",
              "1      00593 98 041 6519    +593 2 222 8813  No phone found   \n",
              "2         No phone found    No mobile found  No phone found   \n",
              "3     0086 137 1726 4770   +86 750 662 8113  No phone found   \n",
              "4      0091 11 4322 2600   +91 11 4322 2600  No phone found   \n",
              "...                  ...                ...             ...   \n",
              "1238  0086 155 5332 5069   +86 533 216 8162  No phone found   \n",
              "1239      No phone found    No mobile found  No phone found   \n",
              "1240      No phone found    No mobile found  No phone found   \n",
              "1241      No phone found    No mobile found  No phone found   \n",
              "1242  0086 519 8680 3321  +86 519 8680 3321  No phone found   \n",
              "\n",
              "                                                Address  \\\n",
              "0     Survey No.16 , Bibipura Road, Geratnagar, Near...   \n",
              "1     Oficina Principal29, Leonidas Plaza Gutierrez,...   \n",
              "2                                      No address found   \n",
              "3                                      No address found   \n",
              "4                                          See all (17)   \n",
              "...                                                 ...   \n",
              "1238                                   No address found   \n",
              "1239                                   No address found   \n",
              "1240                                   No address found   \n",
              "1241                                   No address found   \n",
              "1242                                   No address found   \n",
              "\n",
              "                                                  Logos  \\\n",
              "0                                                   NaN   \n",
              "1     https://img.swapcard.com/?u=https%3A%2F%2Fstat...   \n",
              "2     https://img.swapcard.com/?u=https%3A%2F%2Fcdn-...   \n",
              "3     https://img.swapcard.com/?u=https%3A%2F%2Fcdn-...   \n",
              "4                                                   NaN   \n",
              "...                                                 ...   \n",
              "1238  https://img.swapcard.com/?u=https%3A%2F%2Fstat...   \n",
              "1239                                                NaN   \n",
              "1240  https://img.swapcard.com/?u=https%3A%2F%2Fstat...   \n",
              "1241  https://img.swapcard.com/?u=https%3A%2F%2Fcdn-...   \n",
              "1242  https://img.swapcard.com/?u=https%3A%2F%2Fstat...   \n",
              "\n",
              "                                               Products  ...  \\\n",
              "0     [object Object],[object Object],[object Object...  ...   \n",
              "1                                       [object Object]  ...   \n",
              "2                       [object Object],[object Object]  ...   \n",
              "3     [object Object],[object Object],[object Object...  ...   \n",
              "4     [object Object],[object Object],[object Object...  ...   \n",
              "...                                                 ...  ...   \n",
              "1238  [object Object],[object Object],[object Object...  ...   \n",
              "1239                                                NaN  ...   \n",
              "1240                                                NaN  ...   \n",
              "1241                                                NaN  ...   \n",
              "1242  [object Object],[object Object],[object Object...  ...   \n",
              "\n",
              "     Healthcare Infrastructure & Assets IT Systems / Solutions  \\\n",
              "0                             Not found              Not found   \n",
              "1                             Not found              Not found   \n",
              "2                             Not found              Not found   \n",
              "3                             Not found              Not found   \n",
              "4                             Not found              Not found   \n",
              "...                                 ...                    ...   \n",
              "1238                          Not found              Not found   \n",
              "1239                          Not found              Not found   \n",
              "1240                          Not found              Not found   \n",
              "1241                          Not found              Not found   \n",
              "1242                          Not found              Not found   \n",
              "\n",
              "     IT Systems, Solutions & Digital Health Imaging & Diagnostics  \\\n",
              "0                                 Not found             Not found   \n",
              "1                                 Not found             Not found   \n",
              "2                                 Not found             Not found   \n",
              "3                                 Not found             Not found   \n",
              "4                                 Not found             Not found   \n",
              "...                                     ...                   ...   \n",
              "1238                              Not found             Not found   \n",
              "1239                              Not found             Not found   \n",
              "1240                              Not found             Not found   \n",
              "1241                              Not found             Not found   \n",
              "1242                              Not found             Not found   \n",
              "\n",
              "     Medical Equipment & Devices Orthopedic & Physiotherapy/Rehabilitation  \\\n",
              "0                      Not found                                 Not found   \n",
              "1                      Not found                                 Not found   \n",
              "2                      Not found                                 Not found   \n",
              "3                      Not found                                 Not found   \n",
              "4                      Not found                                 Not found   \n",
              "...                          ...                                       ...   \n",
              "1238                   Not found                                 Not found   \n",
              "1239                   Not found                                 Not found   \n",
              "1240                   Not found                                 Not found   \n",
              "1241                   Not found                                 Not found   \n",
              "1242                   Not found                                 Not found   \n",
              "\n",
              "     Pharma/Nutrition                                            Imaging  \\\n",
              "0           Not found                                          Not found   \n",
              "1           Not found  Diagnostic and Therapy/3D Print Visualisation,...   \n",
              "2           Not found                                          Not found   \n",
              "3           Not found                                          Not found   \n",
              "4           Not found  Diagnostic and Therapy/Dopplers, Fetal Monitor...   \n",
              "...               ...                                                ...   \n",
              "1238        Not found                                          Not found   \n",
              "1239        Not found                                          Not found   \n",
              "1240        Not found                                          Not found   \n",
              "1241        Not found                                          Not found   \n",
              "1242        Not found  Diagnostic and Therapy/Dark Room Equipment, Su...   \n",
              "\n",
              "                                           Social Media              Website  \n",
              "0     https://www.linkedin.com/company/bonetech-medi...  bonetechmedisys.com  \n",
              "1     https://instagram.com/creinltda, https://www.f...         crein.com.ec  \n",
              "2     https://www.facebook.com/flmedical/, https://w...        flmedical.com  \n",
              "3      https://www.linkedin.com/company/baishengmedical           bs0750.com  \n",
              "4     https://x.com/gpcmedicalltd, https://instagram...       gpcmedical.com  \n",
              "...                                                 ...                  ...  \n",
              "1238                                                NaN        sunrisemed.cn  \n",
              "1239                                                NaN     No website found  \n",
              "1240                                                NaN     No website found  \n",
              "1241           https://instagram.com/zollmedical/?hl=en             zoll.com  \n",
              "1242  https://www.linkedin.com/company/https://www.l...      citec-group.com  \n",
              "\n",
              "[1243 rows x 35 columns]"
            ],
            "text/html": [
              "\n",
              "  <div id=\"df-21c5e760-8307-414a-b09d-9fb4643a29a3\" class=\"colab-df-container\">\n",
              "    <div>\n",
              "<style scoped>\n",
              "    .dataframe tbody tr th:only-of-type {\n",
              "        vertical-align: middle;\n",
              "    }\n",
              "\n",
              "    .dataframe tbody tr th {\n",
              "        vertical-align: top;\n",
              "    }\n",
              "\n",
              "    .dataframe thead th {\n",
              "        text-align: right;\n",
              "    }\n",
              "</style>\n",
              "<table border=\"1\" class=\"dataframe\">\n",
              "  <thead>\n",
              "    <tr style=\"text-align: right;\">\n",
              "      <th></th>\n",
              "      <th>Name</th>\n",
              "      <th>Description</th>\n",
              "      <th>Country</th>\n",
              "      <th>Email</th>\n",
              "      <th>Phone</th>\n",
              "      <th>Mobile</th>\n",
              "      <th>Phone Number</th>\n",
              "      <th>Address</th>\n",
              "      <th>Logos</th>\n",
              "      <th>Products</th>\n",
              "      <th>...</th>\n",
              "      <th>Healthcare Infrastructure &amp; Assets</th>\n",
              "      <th>IT Systems / Solutions</th>\n",
              "      <th>IT Systems, Solutions &amp; Digital Health</th>\n",
              "      <th>Imaging &amp; Diagnostics</th>\n",
              "      <th>Medical Equipment &amp; Devices</th>\n",
              "      <th>Orthopedic &amp; Physiotherapy/Rehabilitation</th>\n",
              "      <th>Pharma/Nutrition</th>\n",
              "      <th>Imaging</th>\n",
              "      <th>Social Media</th>\n",
              "      <th>Website</th>\n",
              "    </tr>\n",
              "  </thead>\n",
              "  <tbody>\n",
              "    <tr>\n",
              "      <th>0</th>\n",
              "      <td>BONETECH MEDISYS PRIVATE LIMITED</td>\n",
              "      <td>Introducing Bonetech Medisys, a premier manufa...</td>\n",
              "      <td>India</td>\n",
              "      <td>gaurang@bonetechmedisys.com</td>\n",
              "      <td>0091 957407704</td>\n",
              "      <td>+91 957407704</td>\n",
              "      <td>No phone found</td>\n",
              "      <td>Survey No.16 , Bibipura Road, Geratnagar, Near...</td>\n",
              "      <td>NaN</td>\n",
              "      <td>[object Object],[object Object],[object Object...</td>\n",
              "      <td>...</td>\n",
              "      <td>Not found</td>\n",
              "      <td>Not found</td>\n",
              "      <td>Not found</td>\n",
              "      <td>Not found</td>\n",
              "      <td>Not found</td>\n",
              "      <td>Not found</td>\n",
              "      <td>Not found</td>\n",
              "      <td>Not found</td>\n",
              "      <td>https://www.linkedin.com/company/bonetech-medi...</td>\n",
              "      <td>bonetechmedisys.com</td>\n",
              "    </tr>\n",
              "    <tr>\n",
              "      <th>1</th>\n",
              "      <td>Crein</td>\n",
              "      <td>We are the leading regulatory affairs firm in ...</td>\n",
              "      <td>Ecuador</td>\n",
              "      <td>info@crein.com.ec</td>\n",
              "      <td>00593 98 041 6519</td>\n",
              "      <td>+593 2 222 8813</td>\n",
              "      <td>No phone found</td>\n",
              "      <td>Oficina Principal29, Leonidas Plaza Gutierrez,...</td>\n",
              "      <td>https://img.swapcard.com/?u=https%3A%2F%2Fstat...</td>\n",
              "      <td>[object Object]</td>\n",
              "      <td>...</td>\n",
              "      <td>Not found</td>\n",
              "      <td>Not found</td>\n",
              "      <td>Not found</td>\n",
              "      <td>Not found</td>\n",
              "      <td>Not found</td>\n",
              "      <td>Not found</td>\n",
              "      <td>Not found</td>\n",
              "      <td>Diagnostic and Therapy/3D Print Visualisation,...</td>\n",
              "      <td>https://instagram.com/creinltda, https://www.f...</td>\n",
              "      <td>crein.com.ec</td>\n",
              "    </tr>\n",
              "    <tr>\n",
              "      <th>2</th>\n",
              "      <td>F.L. Medical Srl Unipersonale</td>\n",
              "      <td>Research, evolution, excellence, quality. The ...</td>\n",
              "      <td>Italy</td>\n",
              "      <td>info@flmedical.com</td>\n",
              "      <td>No phone found</td>\n",
              "      <td>No mobile found</td>\n",
              "      <td>No phone found</td>\n",
              "      <td>No address found</td>\n",
              "      <td>https://img.swapcard.com/?u=https%3A%2F%2Fcdn-...</td>\n",
              "      <td>[object Object],[object Object]</td>\n",
              "      <td>...</td>\n",
              "      <td>Not found</td>\n",
              "      <td>Not found</td>\n",
              "      <td>Not found</td>\n",
              "      <td>Not found</td>\n",
              "      <td>Not found</td>\n",
              "      <td>Not found</td>\n",
              "      <td>Not found</td>\n",
              "      <td>Not found</td>\n",
              "      <td>https://www.facebook.com/flmedical/, https://w...</td>\n",
              "      <td>flmedical.com</td>\n",
              "    </tr>\n",
              "    <tr>\n",
              "      <th>3</th>\n",
              "      <td>FULWELL LLC</td>\n",
              "      <td>Baisheng Medical Co.,Ltd, OBS set its producti...</td>\n",
              "      <td>United States of America</td>\n",
              "      <td>sales@bs0750.com</td>\n",
              "      <td>0086 137 1726 4770</td>\n",
              "      <td>+86 750 662 8113</td>\n",
              "      <td>No phone found</td>\n",
              "      <td>No address found</td>\n",
              "      <td>https://img.swapcard.com/?u=https%3A%2F%2Fcdn-...</td>\n",
              "      <td>[object Object],[object Object],[object Object...</td>\n",
              "      <td>...</td>\n",
              "      <td>Not found</td>\n",
              "      <td>Not found</td>\n",
              "      <td>Not found</td>\n",
              "      <td>Not found</td>\n",
              "      <td>Not found</td>\n",
              "      <td>Not found</td>\n",
              "      <td>Not found</td>\n",
              "      <td>Not found</td>\n",
              "      <td>https://www.linkedin.com/company/baishengmedical</td>\n",
              "      <td>bs0750.com</td>\n",
              "    </tr>\n",
              "    <tr>\n",
              "      <th>4</th>\n",
              "      <td>Gpc Medical Ltd</td>\n",
              "      <td>Introducing GPC Medical, a reputable global le...</td>\n",
              "      <td>India</td>\n",
              "      <td>info@gpcmedical.com</td>\n",
              "      <td>0091 11 4322 2600</td>\n",
              "      <td>+91 11 4322 2600</td>\n",
              "      <td>No phone found</td>\n",
              "      <td>See all (17)</td>\n",
              "      <td>NaN</td>\n",
              "      <td>[object Object],[object Object],[object Object...</td>\n",
              "      <td>...</td>\n",
              "      <td>Not found</td>\n",
              "      <td>Not found</td>\n",
              "      <td>Not found</td>\n",
              "      <td>Not found</td>\n",
              "      <td>Not found</td>\n",
              "      <td>Not found</td>\n",
              "      <td>Not found</td>\n",
              "      <td>Diagnostic and Therapy/Dopplers, Fetal Monitor...</td>\n",
              "      <td>https://x.com/gpcmedicalltd, https://instagram...</td>\n",
              "      <td>gpcmedical.com</td>\n",
              "    </tr>\n",
              "    <tr>\n",
              "      <th>...</th>\n",
              "      <td>...</td>\n",
              "      <td>...</td>\n",
              "      <td>...</td>\n",
              "      <td>...</td>\n",
              "      <td>...</td>\n",
              "      <td>...</td>\n",
              "      <td>...</td>\n",
              "      <td>...</td>\n",
              "      <td>...</td>\n",
              "      <td>...</td>\n",
              "      <td>...</td>\n",
              "      <td>...</td>\n",
              "      <td>...</td>\n",
              "      <td>...</td>\n",
              "      <td>...</td>\n",
              "      <td>...</td>\n",
              "      <td>...</td>\n",
              "      <td>...</td>\n",
              "      <td>...</td>\n",
              "      <td>...</td>\n",
              "      <td>...</td>\n",
              "    </tr>\n",
              "    <tr>\n",
              "      <th>1238</th>\n",
              "      <td>Zibo Sunrise Medical Co., Ltd.</td>\n",
              "      <td>SUNRISE MEDICAL is a global leader in design a...</td>\n",
              "      <td>China</td>\n",
              "      <td>info@sunrisemed.cn</td>\n",
              "      <td>0086 155 5332 5069</td>\n",
              "      <td>+86 533 216 8162</td>\n",
              "      <td>No phone found</td>\n",
              "      <td>No address found</td>\n",
              "      <td>https://img.swapcard.com/?u=https%3A%2F%2Fstat...</td>\n",
              "      <td>[object Object],[object Object],[object Object...</td>\n",
              "      <td>...</td>\n",
              "      <td>Not found</td>\n",
              "      <td>Not found</td>\n",
              "      <td>Not found</td>\n",
              "      <td>Not found</td>\n",
              "      <td>Not found</td>\n",
              "      <td>Not found</td>\n",
              "      <td>Not found</td>\n",
              "      <td>Not found</td>\n",
              "      <td>NaN</td>\n",
              "      <td>sunrisemed.cn</td>\n",
              "    </tr>\n",
              "    <tr>\n",
              "      <th>1239</th>\n",
              "      <td>Zilla Technology PTE. LTD.</td>\n",
              "      <td>No description found</td>\n",
              "      <td>Singapore</td>\n",
              "      <td>No email found</td>\n",
              "      <td>No phone found</td>\n",
              "      <td>No mobile found</td>\n",
              "      <td>No phone found</td>\n",
              "      <td>No address found</td>\n",
              "      <td>NaN</td>\n",
              "      <td>NaN</td>\n",
              "      <td>...</td>\n",
              "      <td>Not found</td>\n",
              "      <td>Not found</td>\n",
              "      <td>Not found</td>\n",
              "      <td>Not found</td>\n",
              "      <td>Not found</td>\n",
              "      <td>Not found</td>\n",
              "      <td>Not found</td>\n",
              "      <td>Not found</td>\n",
              "      <td>NaN</td>\n",
              "      <td>No website found</td>\n",
              "    </tr>\n",
              "    <tr>\n",
              "      <th>1240</th>\n",
              "      <td>ZOE BIO, Inc.</td>\n",
              "      <td>No description found</td>\n",
              "      <td>South Korea</td>\n",
              "      <td>No email found</td>\n",
              "      <td>No phone found</td>\n",
              "      <td>No mobile found</td>\n",
              "      <td>No phone found</td>\n",
              "      <td>No address found</td>\n",
              "      <td>https://img.swapcard.com/?u=https%3A%2F%2Fstat...</td>\n",
              "      <td>NaN</td>\n",
              "      <td>...</td>\n",
              "      <td>Not found</td>\n",
              "      <td>Not found</td>\n",
              "      <td>Not found</td>\n",
              "      <td>Not found</td>\n",
              "      <td>Not found</td>\n",
              "      <td>Not found</td>\n",
              "      <td>Not found</td>\n",
              "      <td>Not found</td>\n",
              "      <td>NaN</td>\n",
              "      <td>No website found</td>\n",
              "    </tr>\n",
              "    <tr>\n",
              "      <th>1241</th>\n",
              "      <td>ZOLL MEDICAL CORP</td>\n",
              "      <td>ZOLL develops and markets medical devices and ...</td>\n",
              "      <td>United States of America</td>\n",
              "      <td>LatamSales.zoll@zoll.com</td>\n",
              "      <td>No phone found</td>\n",
              "      <td>No mobile found</td>\n",
              "      <td>No phone found</td>\n",
              "      <td>No address found</td>\n",
              "      <td>https://img.swapcard.com/?u=https%3A%2F%2Fcdn-...</td>\n",
              "      <td>NaN</td>\n",
              "      <td>...</td>\n",
              "      <td>Not found</td>\n",
              "      <td>Not found</td>\n",
              "      <td>Not found</td>\n",
              "      <td>Not found</td>\n",
              "      <td>Not found</td>\n",
              "      <td>Not found</td>\n",
              "      <td>Not found</td>\n",
              "      <td>Not found</td>\n",
              "      <td>https://instagram.com/zollmedical/?hl=en</td>\n",
              "      <td>zoll.com</td>\n",
              "    </tr>\n",
              "    <tr>\n",
              "      <th>1242</th>\n",
              "      <td>Changzhou Intl. Trade &amp; Enterprises Cooperati...</td>\n",
              "      <td>Changzhou Intl. Trade &amp; Enterprises Cooperativ...</td>\n",
              "      <td>China</td>\n",
              "      <td>citec@citec-group.com</td>\n",
              "      <td>0086 519 8680 3321</td>\n",
              "      <td>+86 519 8680 3321</td>\n",
              "      <td>No phone found</td>\n",
              "      <td>No address found</td>\n",
              "      <td>https://img.swapcard.com/?u=https%3A%2F%2Fstat...</td>\n",
              "      <td>[object Object],[object Object],[object Object...</td>\n",
              "      <td>...</td>\n",
              "      <td>Not found</td>\n",
              "      <td>Not found</td>\n",
              "      <td>Not found</td>\n",
              "      <td>Not found</td>\n",
              "      <td>Not found</td>\n",
              "      <td>Not found</td>\n",
              "      <td>Not found</td>\n",
              "      <td>Diagnostic and Therapy/Dark Room Equipment, Su...</td>\n",
              "      <td>https://www.linkedin.com/company/https://www.l...</td>\n",
              "      <td>citec-group.com</td>\n",
              "    </tr>\n",
              "  </tbody>\n",
              "</table>\n",
              "<p>1243 rows × 35 columns</p>\n",
              "</div>\n",
              "    <div class=\"colab-df-buttons\">\n",
              "\n",
              "  <div class=\"colab-df-container\">\n",
              "    <button class=\"colab-df-convert\" onclick=\"convertToInteractive('df-21c5e760-8307-414a-b09d-9fb4643a29a3')\"\n",
              "            title=\"Convert this dataframe to an interactive table.\"\n",
              "            style=\"display:none;\">\n",
              "\n",
              "  <svg xmlns=\"http://www.w3.org/2000/svg\" height=\"24px\" viewBox=\"0 -960 960 960\">\n",
              "    <path d=\"M120-120v-720h720v720H120Zm60-500h600v-160H180v160Zm220 220h160v-160H400v160Zm0 220h160v-160H400v160ZM180-400h160v-160H180v160Zm440 0h160v-160H620v160ZM180-180h160v-160H180v160Zm440 0h160v-160H620v160Z\"/>\n",
              "  </svg>\n",
              "    </button>\n",
              "\n",
              "  <style>\n",
              "    .colab-df-container {\n",
              "      display:flex;\n",
              "      gap: 12px;\n",
              "    }\n",
              "\n",
              "    .colab-df-convert {\n",
              "      background-color: #E8F0FE;\n",
              "      border: none;\n",
              "      border-radius: 50%;\n",
              "      cursor: pointer;\n",
              "      display: none;\n",
              "      fill: #1967D2;\n",
              "      height: 32px;\n",
              "      padding: 0 0 0 0;\n",
              "      width: 32px;\n",
              "    }\n",
              "\n",
              "    .colab-df-convert:hover {\n",
              "      background-color: #E2EBFA;\n",
              "      box-shadow: 0px 1px 2px rgba(60, 64, 67, 0.3), 0px 1px 3px 1px rgba(60, 64, 67, 0.15);\n",
              "      fill: #174EA6;\n",
              "    }\n",
              "\n",
              "    .colab-df-buttons div {\n",
              "      margin-bottom: 4px;\n",
              "    }\n",
              "\n",
              "    [theme=dark] .colab-df-convert {\n",
              "      background-color: #3B4455;\n",
              "      fill: #D2E3FC;\n",
              "    }\n",
              "\n",
              "    [theme=dark] .colab-df-convert:hover {\n",
              "      background-color: #434B5C;\n",
              "      box-shadow: 0px 1px 3px 1px rgba(0, 0, 0, 0.15);\n",
              "      filter: drop-shadow(0px 1px 2px rgba(0, 0, 0, 0.3));\n",
              "      fill: #FFFFFF;\n",
              "    }\n",
              "  </style>\n",
              "\n",
              "    <script>\n",
              "      const buttonEl =\n",
              "        document.querySelector('#df-21c5e760-8307-414a-b09d-9fb4643a29a3 button.colab-df-convert');\n",
              "      buttonEl.style.display =\n",
              "        google.colab.kernel.accessAllowed ? 'block' : 'none';\n",
              "\n",
              "      async function convertToInteractive(key) {\n",
              "        const element = document.querySelector('#df-21c5e760-8307-414a-b09d-9fb4643a29a3');\n",
              "        const dataTable =\n",
              "          await google.colab.kernel.invokeFunction('convertToInteractive',\n",
              "                                                    [key], {});\n",
              "        if (!dataTable) return;\n",
              "\n",
              "        const docLinkHtml = 'Like what you see? Visit the ' +\n",
              "          '<a target=\"_blank\" href=https://colab.research.google.com/notebooks/data_table.ipynb>data table notebook</a>'\n",
              "          + ' to learn more about interactive tables.';\n",
              "        element.innerHTML = '';\n",
              "        dataTable['output_type'] = 'display_data';\n",
              "        await google.colab.output.renderOutput(dataTable, element);\n",
              "        const docLink = document.createElement('div');\n",
              "        docLink.innerHTML = docLinkHtml;\n",
              "        element.appendChild(docLink);\n",
              "      }\n",
              "    </script>\n",
              "  </div>\n",
              "\n",
              "\n",
              "<div id=\"df-b99abcac-b005-4092-b5f2-24eb0cbf2477\">\n",
              "  <button class=\"colab-df-quickchart\" onclick=\"quickchart('df-b99abcac-b005-4092-b5f2-24eb0cbf2477')\"\n",
              "            title=\"Suggest charts\"\n",
              "            style=\"display:none;\">\n",
              "\n",
              "<svg xmlns=\"http://www.w3.org/2000/svg\" height=\"24px\"viewBox=\"0 0 24 24\"\n",
              "     width=\"24px\">\n",
              "    <g>\n",
              "        <path d=\"M19 3H5c-1.1 0-2 .9-2 2v14c0 1.1.9 2 2 2h14c1.1 0 2-.9 2-2V5c0-1.1-.9-2-2-2zM9 17H7v-7h2v7zm4 0h-2V7h2v10zm4 0h-2v-4h2v4z\"/>\n",
              "    </g>\n",
              "</svg>\n",
              "  </button>\n",
              "\n",
              "<style>\n",
              "  .colab-df-quickchart {\n",
              "      --bg-color: #E8F0FE;\n",
              "      --fill-color: #1967D2;\n",
              "      --hover-bg-color: #E2EBFA;\n",
              "      --hover-fill-color: #174EA6;\n",
              "      --disabled-fill-color: #AAA;\n",
              "      --disabled-bg-color: #DDD;\n",
              "  }\n",
              "\n",
              "  [theme=dark] .colab-df-quickchart {\n",
              "      --bg-color: #3B4455;\n",
              "      --fill-color: #D2E3FC;\n",
              "      --hover-bg-color: #434B5C;\n",
              "      --hover-fill-color: #FFFFFF;\n",
              "      --disabled-bg-color: #3B4455;\n",
              "      --disabled-fill-color: #666;\n",
              "  }\n",
              "\n",
              "  .colab-df-quickchart {\n",
              "    background-color: var(--bg-color);\n",
              "    border: none;\n",
              "    border-radius: 50%;\n",
              "    cursor: pointer;\n",
              "    display: none;\n",
              "    fill: var(--fill-color);\n",
              "    height: 32px;\n",
              "    padding: 0;\n",
              "    width: 32px;\n",
              "  }\n",
              "\n",
              "  .colab-df-quickchart:hover {\n",
              "    background-color: var(--hover-bg-color);\n",
              "    box-shadow: 0 1px 2px rgba(60, 64, 67, 0.3), 0 1px 3px 1px rgba(60, 64, 67, 0.15);\n",
              "    fill: var(--button-hover-fill-color);\n",
              "  }\n",
              "\n",
              "  .colab-df-quickchart-complete:disabled,\n",
              "  .colab-df-quickchart-complete:disabled:hover {\n",
              "    background-color: var(--disabled-bg-color);\n",
              "    fill: var(--disabled-fill-color);\n",
              "    box-shadow: none;\n",
              "  }\n",
              "\n",
              "  .colab-df-spinner {\n",
              "    border: 2px solid var(--fill-color);\n",
              "    border-color: transparent;\n",
              "    border-bottom-color: var(--fill-color);\n",
              "    animation:\n",
              "      spin 1s steps(1) infinite;\n",
              "  }\n",
              "\n",
              "  @keyframes spin {\n",
              "    0% {\n",
              "      border-color: transparent;\n",
              "      border-bottom-color: var(--fill-color);\n",
              "      border-left-color: var(--fill-color);\n",
              "    }\n",
              "    20% {\n",
              "      border-color: transparent;\n",
              "      border-left-color: var(--fill-color);\n",
              "      border-top-color: var(--fill-color);\n",
              "    }\n",
              "    30% {\n",
              "      border-color: transparent;\n",
              "      border-left-color: var(--fill-color);\n",
              "      border-top-color: var(--fill-color);\n",
              "      border-right-color: var(--fill-color);\n",
              "    }\n",
              "    40% {\n",
              "      border-color: transparent;\n",
              "      border-right-color: var(--fill-color);\n",
              "      border-top-color: var(--fill-color);\n",
              "    }\n",
              "    60% {\n",
              "      border-color: transparent;\n",
              "      border-right-color: var(--fill-color);\n",
              "    }\n",
              "    80% {\n",
              "      border-color: transparent;\n",
              "      border-right-color: var(--fill-color);\n",
              "      border-bottom-color: var(--fill-color);\n",
              "    }\n",
              "    90% {\n",
              "      border-color: transparent;\n",
              "      border-bottom-color: var(--fill-color);\n",
              "    }\n",
              "  }\n",
              "</style>\n",
              "\n",
              "  <script>\n",
              "    async function quickchart(key) {\n",
              "      const quickchartButtonEl =\n",
              "        document.querySelector('#' + key + ' button');\n",
              "      quickchartButtonEl.disabled = true;  // To prevent multiple clicks.\n",
              "      quickchartButtonEl.classList.add('colab-df-spinner');\n",
              "      try {\n",
              "        const charts = await google.colab.kernel.invokeFunction(\n",
              "            'suggestCharts', [key], {});\n",
              "      } catch (error) {\n",
              "        console.error('Error during call to suggestCharts:', error);\n",
              "      }\n",
              "      quickchartButtonEl.classList.remove('colab-df-spinner');\n",
              "      quickchartButtonEl.classList.add('colab-df-quickchart-complete');\n",
              "    }\n",
              "    (() => {\n",
              "      let quickchartButtonEl =\n",
              "        document.querySelector('#df-b99abcac-b005-4092-b5f2-24eb0cbf2477 button');\n",
              "      quickchartButtonEl.style.display =\n",
              "        google.colab.kernel.accessAllowed ? 'block' : 'none';\n",
              "    })();\n",
              "  </script>\n",
              "</div>\n",
              "\n",
              "  <div id=\"id_4744034d-1270-47fa-a21b-491313f1ac48\">\n",
              "    <style>\n",
              "      .colab-df-generate {\n",
              "        background-color: #E8F0FE;\n",
              "        border: none;\n",
              "        border-radius: 50%;\n",
              "        cursor: pointer;\n",
              "        display: none;\n",
              "        fill: #1967D2;\n",
              "        height: 32px;\n",
              "        padding: 0 0 0 0;\n",
              "        width: 32px;\n",
              "      }\n",
              "\n",
              "      .colab-df-generate:hover {\n",
              "        background-color: #E2EBFA;\n",
              "        box-shadow: 0px 1px 2px rgba(60, 64, 67, 0.3), 0px 1px 3px 1px rgba(60, 64, 67, 0.15);\n",
              "        fill: #174EA6;\n",
              "      }\n",
              "\n",
              "      [theme=dark] .colab-df-generate {\n",
              "        background-color: #3B4455;\n",
              "        fill: #D2E3FC;\n",
              "      }\n",
              "\n",
              "      [theme=dark] .colab-df-generate:hover {\n",
              "        background-color: #434B5C;\n",
              "        box-shadow: 0px 1px 3px 1px rgba(0, 0, 0, 0.15);\n",
              "        filter: drop-shadow(0px 1px 2px rgba(0, 0, 0, 0.3));\n",
              "        fill: #FFFFFF;\n",
              "      }\n",
              "    </style>\n",
              "    <button class=\"colab-df-generate\" onclick=\"generateWithVariable('dfcopy')\"\n",
              "            title=\"Generate code using this dataframe.\"\n",
              "            style=\"display:none;\">\n",
              "\n",
              "  <svg xmlns=\"http://www.w3.org/2000/svg\" height=\"24px\"viewBox=\"0 0 24 24\"\n",
              "       width=\"24px\">\n",
              "    <path d=\"M7,19H8.4L18.45,9,17,7.55,7,17.6ZM5,21V16.75L18.45,3.32a2,2,0,0,1,2.83,0l1.4,1.43a1.91,1.91,0,0,1,.58,1.4,1.91,1.91,0,0,1-.58,1.4L9.25,21ZM18.45,9,17,7.55Zm-12,3A5.31,5.31,0,0,0,4.9,8.1,5.31,5.31,0,0,0,1,6.5,5.31,5.31,0,0,0,4.9,4.9,5.31,5.31,0,0,0,6.5,1,5.31,5.31,0,0,0,8.1,4.9,5.31,5.31,0,0,0,12,6.5,5.46,5.46,0,0,0,6.5,12Z\"/>\n",
              "  </svg>\n",
              "    </button>\n",
              "    <script>\n",
              "      (() => {\n",
              "      const buttonEl =\n",
              "        document.querySelector('#id_4744034d-1270-47fa-a21b-491313f1ac48 button.colab-df-generate');\n",
              "      buttonEl.style.display =\n",
              "        google.colab.kernel.accessAllowed ? 'block' : 'none';\n",
              "\n",
              "      buttonEl.onclick = () => {\n",
              "        google.colab.notebook.generateWithVariable('dfcopy');\n",
              "      }\n",
              "      })();\n",
              "    </script>\n",
              "  </div>\n",
              "\n",
              "    </div>\n",
              "  </div>\n"
            ],
            "application/vnd.google.colaboratory.intrinsic+json": {
              "type": "dataframe",
              "variable_name": "dfcopy"
            }
          },
          "metadata": {},
          "execution_count": 18
        }
      ]
    },
    {
      "cell_type": "markdown",
      "source": [
        "##sqlite"
      ],
      "metadata": {
        "id": "zHa3IhhCjUQq"
      }
    },
    {
      "cell_type": "code",
      "source": [
        "import sqlite3"
      ],
      "metadata": {
        "id": "Lw_BXlCbddvi"
      },
      "execution_count": null,
      "outputs": []
    },
    {
      "cell_type": "code",
      "source": [
        "def pd_to_sqlDB(input_df: dfcopy,\n",
        "                table_name: str,\n",
        "                db_name: str = 'default.db') -> None:\n",
        "\n",
        "    '''Take a Pandas dataframe `input_df` and upload it to `table_name` SQLITE table\n",
        "    Args:\n",
        "        input_df (pd.DataFrame): Dataframe containing data to upload to SQLITE\n",
        "        table_name (str): Name of the SQLITE table to upload to\n",
        "        db_name (str, optional): Name of the SQLITE Database in which the table is created.\n",
        "                                 Defaults to 'default.db'.\n",
        "    '''"
      ],
      "metadata": {
        "id": "qhpi5mOPhbi1"
      },
      "execution_count": null,
      "outputs": []
    },
    {
      "cell_type": "code",
      "source": [
        "    # Step 1: Setup local logging\n",
        "    import logging\n",
        "    logging.basicConfig(level=logging.INFO,\n",
        "                        format='%(asctime)s %(levelname)s: %(message)s',\n",
        "                        datefmt='%Y-%m-%d %H:%M:%S')"
      ],
      "metadata": {
        "id": "iOcK9zOBhh74"
      },
      "execution_count": null,
      "outputs": []
    },
    {
      "cell_type": "code",
      "source": [
        "    # Step 2: Find columns in the dataframe\n",
        "    cols = dfcopy.columns\n",
        "    cols_string = ','.join(cols)\n",
        "    val_wildcard_string = ','.join(['?'] * len(cols))"
      ],
      "metadata": {
        "id": "Z9OUGOhdhwfq"
      },
      "execution_count": null,
      "outputs": []
    },
    {
      "cell_type": "code",
      "source": [
        "    # Step 3: Connect to a DB file if it exists, else crete a new file\n",
        "    con = sqlite3.connect(db_name)\n",
        "    cur = con.cursor()\n",
        "    logging.info(f'SQL DB {db_name} created')"
      ],
      "metadata": {
        "id": "Flge1qkniAqJ",
        "outputId": "f2bc426f-1460-4e42-c8cf-089112bd861f",
        "colab": {
          "base_uri": "https://localhost:8080/",
          "height": 193
        }
      },
      "execution_count": null,
      "outputs": [
        {
          "output_type": "error",
          "ename": "NameError",
          "evalue": "name 'db_name' is not defined",
          "traceback": [
            "\u001b[0;31m---------------------------------------------------------------------------\u001b[0m",
            "\u001b[0;31mNameError\u001b[0m                                 Traceback (most recent call last)",
            "\u001b[0;32m<ipython-input-23-9efd6897a29c>\u001b[0m in \u001b[0;36m<cell line: 2>\u001b[0;34m()\u001b[0m\n\u001b[1;32m      1\u001b[0m \u001b[0;31m# Step 3: Connect to a DB file if it exists, else crete a new file\u001b[0m\u001b[0;34m\u001b[0m\u001b[0;34m\u001b[0m\u001b[0m\n\u001b[0;32m----> 2\u001b[0;31m \u001b[0mcon\u001b[0m \u001b[0;34m=\u001b[0m \u001b[0msqlite3\u001b[0m\u001b[0;34m.\u001b[0m\u001b[0mconnect\u001b[0m\u001b[0;34m(\u001b[0m\u001b[0mdb_name\u001b[0m\u001b[0;34m)\u001b[0m\u001b[0;34m\u001b[0m\u001b[0;34m\u001b[0m\u001b[0m\n\u001b[0m\u001b[1;32m      3\u001b[0m \u001b[0mcur\u001b[0m \u001b[0;34m=\u001b[0m \u001b[0mcon\u001b[0m\u001b[0;34m.\u001b[0m\u001b[0mcursor\u001b[0m\u001b[0;34m(\u001b[0m\u001b[0;34m)\u001b[0m\u001b[0;34m\u001b[0m\u001b[0;34m\u001b[0m\u001b[0m\n\u001b[1;32m      4\u001b[0m \u001b[0mlogging\u001b[0m\u001b[0;34m.\u001b[0m\u001b[0minfo\u001b[0m\u001b[0;34m(\u001b[0m\u001b[0;34mf'SQL DB {db_name} created'\u001b[0m\u001b[0;34m)\u001b[0m\u001b[0;34m\u001b[0m\u001b[0;34m\u001b[0m\u001b[0m\n",
            "\u001b[0;31mNameError\u001b[0m: name 'db_name' is not defined"
          ]
        }
      ]
    },
    {
      "cell_type": "code",
      "source": [
        "    # Step 4: Create Table\n",
        "    sql_string = f\"\"\"CREATE TABLE {table_name} ({cols_string});\"\"\"\n",
        "    cur.execute(sql_string)\n",
        "    logging.info(f'SQL Table {table_name} created with {len(cols)} columns')\n",
        "\n",
        "    # Step 5: Upload the dataframe\n",
        "    rows_to_upload = input_df.to_dict(orient='split')['data']\n",
        "    sql_string = f\"\"\"INSERT INTO {table_name} ({cols_string}) VALUES ({val_wildcard_string});\"\"\"\n",
        "    cur.executemany(sql_string, rows_to_upload)\n",
        "    logging.info(f'{len(rows_to_upload)} rows uploaded to {table_name}')\n",
        "\n",
        "    # Step 6: Commit the changes and close the connection\n",
        "    con.commit()\n",
        "    con.close()"
      ],
      "metadata": {
        "id": "o1dNqoLBgCfG"
      },
      "execution_count": null,
      "outputs": []
    },
    {
      "cell_type": "code",
      "source": [],
      "metadata": {
        "id": "BKi-fULwkN0P"
      },
      "execution_count": null,
      "outputs": []
    },
    {
      "cell_type": "markdown",
      "source": [
        "#Missing Values"
      ],
      "metadata": {
        "id": "BoNLY20ekRB3"
      }
    },
    {
      "cell_type": "markdown",
      "source": [
        "###Missing Countries\n"
      ],
      "metadata": {
        "id": "pS7iB9wHxKK8"
      }
    },
    {
      "cell_type": "code",
      "source": [
        "country_test = dfcopy['Country'].unique()\n",
        "country_test.sort()\n",
        "country_test.tolist()"
      ],
      "metadata": {
        "id": "EiHTaChOxRpy"
      },
      "execution_count": null,
      "outputs": []
    },
    {
      "cell_type": "code",
      "source": [
        "dfcopy['Country'].value_counts()[\"No country found\"]  # Count occurrences of \"No country found\" in the \"Country\" column"
      ],
      "metadata": {
        "id": "ov7163hB2Hds"
      },
      "execution_count": null,
      "outputs": []
    },
    {
      "cell_type": "code",
      "source": [
        "dfcopy['Country'].value_counts()"
      ],
      "metadata": {
        "id": "1gBNTgbe4N-D"
      },
      "execution_count": null,
      "outputs": []
    },
    {
      "cell_type": "code",
      "source": [
        "MissingCountry = dfcopy[dfcopy[\"Country\"].isin([\"NULL\", \"No country found\"])]"
      ],
      "metadata": {
        "id": "L90Vbf7v4uX-"
      },
      "execution_count": null,
      "outputs": []
    },
    {
      "cell_type": "code",
      "source": [
        "MissingCountry"
      ],
      "metadata": {
        "id": "0Jp8s6LT5DhQ"
      },
      "execution_count": null,
      "outputs": []
    },
    {
      "cell_type": "code",
      "source": [
        "MissingCountry.drop(columns=MissingCountry.columns.difference([\"Name\",\"Country\"]),inplace=True)"
      ],
      "metadata": {
        "id": "3uoq5DUE5J4v"
      },
      "execution_count": null,
      "outputs": []
    },
    {
      "cell_type": "code",
      "source": [
        "MissingCountry"
      ],
      "metadata": {
        "id": "tEfFY7eO5fZT"
      },
      "execution_count": null,
      "outputs": []
    },
    {
      "cell_type": "markdown",
      "source": [
        "###Missing Phone Numbers"
      ],
      "metadata": {
        "id": "6cKA1uD4tcNG"
      }
    },
    {
      "cell_type": "code",
      "source": [
        "MissingPhone = dfcopy[dfcopy[\"Phone\"].isin([\"NULL\", \"No phone found\"])]"
      ],
      "metadata": {
        "id": "inWG7o_AkY7Y"
      },
      "execution_count": null,
      "outputs": []
    },
    {
      "cell_type": "code",
      "source": [
        "MissingPhone"
      ],
      "metadata": {
        "id": "QH4QdzBElEeD"
      },
      "execution_count": null,
      "outputs": []
    },
    {
      "cell_type": "code",
      "source": [
        "MissingPhone.shape"
      ],
      "metadata": {
        "id": "xzUTFptLlGeU"
      },
      "execution_count": null,
      "outputs": []
    },
    {
      "cell_type": "code",
      "source": [
        "MissingPhone.drop(columns=MissingPhone.columns.difference([\"Name\",\"Phone\"]),inplace=True)"
      ],
      "metadata": {
        "id": "sjuFGe3DmfWK"
      },
      "execution_count": null,
      "outputs": []
    },
    {
      "cell_type": "code",
      "source": [
        "MissingPhone\n",
        "#This interactive table can be easily downloaded as a csv."
      ],
      "metadata": {
        "id": "tqI7AmQTpKTw"
      },
      "execution_count": null,
      "outputs": []
    },
    {
      "cell_type": "markdown",
      "source": [
        "###Missing Emails"
      ],
      "metadata": {
        "id": "DlKUPd0DtuJL"
      }
    },
    {
      "cell_type": "code",
      "source": [
        "MissingEmail = dfcopy[dfcopy[\"Email\"].isin([\"NULL\", \"No email found\"])]\n",
        "MissingEmail.drop(columns=MissingEmail.columns.difference([\"Name\",\"Email\"]),inplace=True)\n",
        "MissingEmail"
      ],
      "metadata": {
        "id": "Y_KAHzvWtv68"
      },
      "execution_count": null,
      "outputs": []
    },
    {
      "cell_type": "markdown",
      "source": [
        "###Missing Addresses"
      ],
      "metadata": {
        "id": "CshIKWZS7Fm4"
      }
    },
    {
      "cell_type": "code",
      "source": [
        "MissingAddress = dfcopy[dfcopy[\"Address\"].isin([\"NULL\", \"No address found\"])]\n",
        "MissingAddress.drop(columns=MissingAddress.columns.difference([\"Name\",\"Address\"]),inplace=True)\n",
        "MissingAddress"
      ],
      "metadata": {
        "id": "LIgh9iy97IiX"
      },
      "execution_count": null,
      "outputs": []
    },
    {
      "cell_type": "markdown",
      "source": [
        "###Missing Nature of Businesses"
      ],
      "metadata": {
        "id": "gCCFBBOc-gnS"
      }
    },
    {
      "cell_type": "code",
      "source": [
        "dfcopy[\"Nature of Business\"]"
      ],
      "metadata": {
        "id": "3MVH3bl1-sbB"
      },
      "execution_count": null,
      "outputs": []
    },
    {
      "cell_type": "code",
      "source": [
        "b_test = dfcopy['Nature of Business'].unique()\n",
        "b_test.sort()\n",
        "b_test.tolist()"
      ],
      "metadata": {
        "id": "tigMS-bk_Vft"
      },
      "execution_count": null,
      "outputs": []
    },
    {
      "cell_type": "code",
      "source": [
        "Missingb = dfcopy[dfcopy[\"Nature of Business\"].isin([\"NULL\", \"Not found\"])]\n",
        "Missingb.drop(columns=Missingb.columns.difference([\"Name\",\"Nature of Business\"]),inplace=True)\n",
        "Missingb"
      ],
      "metadata": {
        "id": "xIwwNa68_oab"
      },
      "execution_count": null,
      "outputs": []
    },
    {
      "cell_type": "markdown",
      "source": [
        "###Missing Websites"
      ],
      "metadata": {
        "id": "R0I4GNJR-hKa"
      }
    },
    {
      "cell_type": "code",
      "source": [
        "dfcopy[\"Website\"]"
      ],
      "metadata": {
        "id": "yACeu8ev-pF4"
      },
      "execution_count": null,
      "outputs": []
    },
    {
      "cell_type": "code",
      "source": [
        "Missingw = dfcopy[dfcopy[\"Website\"].isin([\"NULL\", \"No website found\"])]\n",
        "Missingw.drop(columns=Missingw.columns.difference([\"Name\",\"Website\"]),inplace=True)\n",
        "Missingw"
      ],
      "metadata": {
        "id": "gJfBjWzt_8s-"
      },
      "execution_count": null,
      "outputs": []
    },
    {
      "cell_type": "code",
      "source": [
        "c = MissingCountry.value_counts().sum()\n",
        "p = MissingPhone.value_counts().sum()\n",
        "e = MissingEmail.value_counts().sum()\n",
        "a = MissingAddress.value_counts().sum()\n",
        "b = Missingb.value_counts().sum()\n",
        "w = Missingw.value_counts().sum()"
      ],
      "metadata": {
        "id": "qWjAAWFnBAI_"
      },
      "execution_count": null,
      "outputs": []
    },
    {
      "cell_type": "code",
      "source": [
        "Country = [\"Country\"]"
      ],
      "metadata": {
        "id": "WLaMvO4oC6UV"
      },
      "execution_count": null,
      "outputs": []
    },
    {
      "cell_type": "code",
      "source": [
        "C = len(Country.axes[0])\n",
        "C"
      ],
      "metadata": {
        "id": "K0DBC3BBBD6P"
      },
      "execution_count": null,
      "outputs": []
    },
    {
      "cell_type": "code",
      "source": [
        "import seaborn as sns"
      ],
      "metadata": {
        "id": "_4NE42OeBj1i"
      },
      "execution_count": null,
      "outputs": []
    },
    {
      "cell_type": "code",
      "source": [],
      "metadata": {
        "id": "heEXLMCVHn6g"
      },
      "execution_count": null,
      "outputs": []
    }
  ]
}