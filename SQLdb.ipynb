{
  "nbformat": 4,
  "nbformat_minor": 0,
  "metadata": {
    "colab": {
      "provenance": [],
      "authorship_tag": "ABX9TyNx+SFOc4QO/BpPmdYq3e9k",
      "include_colab_link": true
    },
    "kernelspec": {
      "name": "python3",
      "display_name": "Python 3"
    },
    "language_info": {
      "name": "python"
    }
  },
  "cells": [
    {
      "cell_type": "markdown",
      "metadata": {
        "id": "view-in-github",
        "colab_type": "text"
      },
      "source": [
        "<a href=\"https://colab.research.google.com/github/Rastaban19/Temporary/blob/main/SQLdb.ipynb\" target=\"_parent\"><img src=\"https://colab.research.google.com/assets/colab-badge.svg\" alt=\"Open In Colab\"/></a>"
      ]
    },
    {
      "cell_type": "code",
      "execution_count": null,
      "metadata": {
        "id": "VFiDZQr-9zeD"
      },
      "outputs": [],
      "source": [
        "CREATE TABLE specialisation (\n",
        "    specialisation_id INT PRIMARY KEY,\n",
        "    specialisation_name VARCHAR(255),\n",
        "    parent_id INT,\n",
        "    FOREIGN KEY (ParentSpecialisationID) REFERENCES Specialisation(SpecialisationID)\n",
        ");\n"
      ]
    },
    {
      "cell_type": "markdown",
      "source": [
        "ParentCategoryID: Points to the CategoryID of the parent category. If ParentCategoryID is NULL, it means that the category is a top-level category (no parent)."
      ],
      "metadata": {
        "id": "DXWYmsQK-SM0"
      }
    },
    {
      "cell_type": "code",
      "source": [
        "To retrieve a list of categories along with their subcategories, you can use a JOIN operation:\n",
        "SELECT\n",
        "    Parent.CategoryName AS ParentCategory,\n",
        "    Child.CategoryName AS SubCategory\n",
        "FROM\n",
        "    Category AS Parent\n",
        "LEFT JOIN\n",
        "    Category AS Child ON Parent.CategoryID = Child.ParentCategoryID\n",
        "ORDER BY\n",
        "    Parent.CategoryName, Child.CategoryName;"
      ],
      "metadata": {
        "id": "5-eJhRbH-T2s"
      },
      "execution_count": null,
      "outputs": []
    }
  ]
}